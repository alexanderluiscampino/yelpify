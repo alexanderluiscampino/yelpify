{
 "cells": [
  {
   "cell_type": "code",
   "execution_count": 18,
   "metadata": {},
   "outputs": [],
   "source": [
    "import os\n",
    "import json\n",
    "from pathlib import Path"
   ]
  },
  {
   "cell_type": "code",
   "execution_count": 44,
   "metadata": {},
   "outputs": [
    {
     "name": "stdout",
     "output_type": "stream",
     "text": [
      "yelp_academic_dataset_checkin.json\n",
      "yelp_academic_dataset_user.json\n",
      "yelp_academic_dataset_user.json:Zone.Identifier\n",
      "yelp_academic_dataset_business.json\n",
      "yelp_academic_dataset_review.json:Zone.Identifier\n",
      "yelp_academic_dataset_tip.json\n",
      "yelp_academic_dataset_business.json:Zone.Identifier\n",
      "yelp_academic_dataset_tip.json:Zone.Identifier\n",
      "yelp_academic_dataset_checkin.json:Zone.Identifier\n",
      "yelp_academic_dataset_review.json\n"
     ]
    }
   ],
   "source": [
    "for entry in os.listdir(\"./data\"):\n",
    "    print(entry)"
   ]
  },
  {
   "cell_type": "code",
   "execution_count": 23,
   "metadata": {},
   "outputs": [],
   "source": [
    "path = \"./data/yelp_academic_dataset_review.json\"\n",
    "\n",
    "paths = {}\n",
    "for entry in os.listdir('./data'):\n",
    "    if entry.endswith('.json'):\n",
    "        path = Path(\"./data\") / Path(entry)\n",
    "        paths[path.stem.split('_')[-1]] = path"
   ]
  },
  {
   "cell_type": "code",
   "execution_count": 24,
   "metadata": {},
   "outputs": [
    {
     "data": {
      "text/plain": [
       "{'checkin': PosixPath('data/yelp_academic_dataset_checkin.json'),\n",
       " 'user': PosixPath('data/yelp_academic_dataset_user.json'),\n",
       " 'business': PosixPath('data/yelp_academic_dataset_business.json'),\n",
       " 'tip': PosixPath('data/yelp_academic_dataset_tip.json'),\n",
       " 'review': PosixPath('data/yelp_academic_dataset_review.json')}"
      ]
     },
     "execution_count": 24,
     "metadata": {},
     "output_type": "execute_result"
    }
   ],
   "source": [
    "paths"
   ]
  },
  {
   "cell_type": "code",
   "execution_count": 29,
   "metadata": {},
   "outputs": [
    {
     "name": "stdout",
     "output_type": "stream",
     "text": [
      "{'user_id': 'hf27xTME3EiCp6NL6VtWZQ', 'business_id': 'UYX5zL_Xj9WEc_Wp-FrqHw', 'text': 'Here for a quick mtg', 'date': '2013-11-26 18:20:08', 'compliment_count': 0}\n"
     ]
    }
   ],
   "source": [
    "with open(paths['tip']) as f:\n",
    "    for line in f:\n",
    "        print(json.loads(line))\n",
    "        break"
   ]
  },
  {
   "cell_type": "code",
   "execution_count": 30,
   "metadata": {},
   "outputs": [
    {
     "data": {
      "text/plain": [
       "{'user_id': 'hf27xTME3EiCp6NL6VtWZQ',\n",
       " 'business_id': 'UYX5zL_Xj9WEc_Wp-FrqHw',\n",
       " 'text': 'Here for a quick mtg',\n",
       " 'date': '2013-11-26 18:20:08',\n",
       " 'compliment_count': 0}"
      ]
     },
     "execution_count": 30,
     "metadata": {},
     "output_type": "execute_result"
    }
   ],
   "source": [
    "json.loads(line)"
   ]
  },
  {
   "cell_type": "code",
   "execution_count": 11,
   "metadata": {},
   "outputs": [],
   "source": [
    "from pyspark.sql import SparkSession\n",
    "\n",
    "# Spark session & context\n",
    "spark = SparkSession.builder.master('local').getOrCreate()\n",
    "sc = spark.sparkContext"
   ]
  },
  {
   "cell_type": "code",
   "execution_count": 34,
   "metadata": {},
   "outputs": [],
   "source": [
    "df = spark.read.json(str(paths['business']))"
   ]
  },
  {
   "cell_type": "code",
   "execution_count": 35,
   "metadata": {},
   "outputs": [
    {
     "name": "stdout",
     "output_type": "stream",
     "text": [
      "root\n",
      " |-- address: string (nullable = true)\n",
      " |-- attributes: struct (nullable = true)\n",
      " |    |-- AcceptsInsurance: string (nullable = true)\n",
      " |    |-- AgesAllowed: string (nullable = true)\n",
      " |    |-- Alcohol: string (nullable = true)\n",
      " |    |-- Ambience: string (nullable = true)\n",
      " |    |-- BYOB: string (nullable = true)\n",
      " |    |-- BYOBCorkage: string (nullable = true)\n",
      " |    |-- BestNights: string (nullable = true)\n",
      " |    |-- BikeParking: string (nullable = true)\n",
      " |    |-- BusinessAcceptsBitcoin: string (nullable = true)\n",
      " |    |-- BusinessAcceptsCreditCards: string (nullable = true)\n",
      " |    |-- BusinessParking: string (nullable = true)\n",
      " |    |-- ByAppointmentOnly: string (nullable = true)\n",
      " |    |-- Caters: string (nullable = true)\n",
      " |    |-- CoatCheck: string (nullable = true)\n",
      " |    |-- Corkage: string (nullable = true)\n",
      " |    |-- DietaryRestrictions: string (nullable = true)\n",
      " |    |-- DogsAllowed: string (nullable = true)\n",
      " |    |-- DriveThru: string (nullable = true)\n",
      " |    |-- GoodForDancing: string (nullable = true)\n",
      " |    |-- GoodForKids: string (nullable = true)\n",
      " |    |-- GoodForMeal: string (nullable = true)\n",
      " |    |-- HairSpecializesIn: string (nullable = true)\n",
      " |    |-- HappyHour: string (nullable = true)\n",
      " |    |-- HasTV: string (nullable = true)\n",
      " |    |-- Music: string (nullable = true)\n",
      " |    |-- NoiseLevel: string (nullable = true)\n",
      " |    |-- Open24Hours: string (nullable = true)\n",
      " |    |-- OutdoorSeating: string (nullable = true)\n",
      " |    |-- RestaurantsAttire: string (nullable = true)\n",
      " |    |-- RestaurantsCounterService: string (nullable = true)\n",
      " |    |-- RestaurantsDelivery: string (nullable = true)\n",
      " |    |-- RestaurantsGoodForGroups: string (nullable = true)\n",
      " |    |-- RestaurantsPriceRange2: string (nullable = true)\n",
      " |    |-- RestaurantsReservations: string (nullable = true)\n",
      " |    |-- RestaurantsTableService: string (nullable = true)\n",
      " |    |-- RestaurantsTakeOut: string (nullable = true)\n",
      " |    |-- Smoking: string (nullable = true)\n",
      " |    |-- WheelchairAccessible: string (nullable = true)\n",
      " |    |-- WiFi: string (nullable = true)\n",
      " |-- business_id: string (nullable = true)\n",
      " |-- categories: string (nullable = true)\n",
      " |-- city: string (nullable = true)\n",
      " |-- hours: struct (nullable = true)\n",
      " |    |-- Friday: string (nullable = true)\n",
      " |    |-- Monday: string (nullable = true)\n",
      " |    |-- Saturday: string (nullable = true)\n",
      " |    |-- Sunday: string (nullable = true)\n",
      " |    |-- Thursday: string (nullable = true)\n",
      " |    |-- Tuesday: string (nullable = true)\n",
      " |    |-- Wednesday: string (nullable = true)\n",
      " |-- is_open: long (nullable = true)\n",
      " |-- latitude: double (nullable = true)\n",
      " |-- longitude: double (nullable = true)\n",
      " |-- name: string (nullable = true)\n",
      " |-- postal_code: string (nullable = true)\n",
      " |-- review_count: long (nullable = true)\n",
      " |-- stars: double (nullable = true)\n",
      " |-- state: string (nullable = true)\n",
      "\n"
     ]
    }
   ],
   "source": [
    "df.printSchema()"
   ]
  },
  {
   "cell_type": "code",
   "execution_count": 36,
   "metadata": {},
   "outputs": [],
   "source": [
    "df.createOrReplaceTempView(\"business\")"
   ]
  },
  {
   "cell_type": "code",
   "execution_count": 42,
   "metadata": {},
   "outputs": [
    {
     "name": "stdout",
     "output_type": "stream",
     "text": [
      "+--------------------+--------------------+--------------------+--------------------+---------------+--------------------+-------+-------------+---------------+--------------------+-----------+------------+-----+-----+\n",
      "|             address|          attributes|         business_id|          categories|           city|               hours|is_open|     latitude|      longitude|                name|postal_code|review_count|stars|state|\n",
      "+--------------------+--------------------+--------------------+--------------------+---------------+--------------------+-------+-------------+---------------+--------------------+-----------+------------+-----+-----+\n",
      "|     10913 Bailey Rd|[,,,,,,, True,, T...|f9NumwFMBDn751xgF...|Active Life, Gun/...|      Cornelius|[11:0-20:0, 10:0-...|      1|   35.4627242|    -80.8526119|The Range At Lake...|      28031|          36|  3.5|   NC|\n",
      "|8880 E Via Linda,...|[,,,,,,,,,,, True...|Yzvjg0SayhoZgCljU...|Health & Medical,...|     Scottsdale|                null|      1|   33.5694041|   -111.8902637|   Carlos Santo, NMD|      85258|           4|  5.0|   AZ|\n",
      "|3554 Rue Notre-Da...|                null|XNoUzKckATkOD1hP6...|Pets, Pet Service...|       Montreal|                null|      1|    45.479984|      -73.58007|             Felinus|    H4C 1P4|           5|  5.0|   QC|\n",
      "|      1015 Sharp Cir|[,,,,,,, True,, T...|6OAZjbxqM5ol29BuH...|Hardware Stores, ...|North Las Vegas|[7:0-16:0, 7:0-16...|      0|   36.2197281|   -115.1277255|Nevada House of Hose|      89030|           3|  2.5|   NV|\n",
      "|  4827 E Downing Cir|[,,,,,,,,, True,,...|51M2Kk903DFYI6gnB...|Home Services, Pl...|           Mesa|[9:0-16:0, 0:0-0:...|      1|   33.4280652|   -111.7266485|USE MY GUY SERVIC...|      85205|          26|  4.5|   AZ|\n",
      "|1720 W Elliot Rd,...|[,,,,,,,,, True,,...|cKyLV5oWZJ2NudWgq...|Auto Repair, Auto...|        Gilbert|[7:0-18:0, 7:0-18...|      1|   33.3503993|   -111.8271417|Oasis Auto Center...|      85233|          38|  4.5|   AZ|\n",
      "|6870 S Rainbow Bl...|[,,,,,,, True,, T...|oiAlXZPIFm2nBCt0D...|Dry Cleaning & La...|      Las Vegas|[7:0-19:0, 7:0-19...|      1|   36.0639767|    -115.241463|Green World Cleaners|      89118|          81|  3.5|   NV|\n",
      "| 6910 E Southern Ave|[,,,,,,,,, True,,...|ScYkbYNkDgCneBrD9...|Auto Repair, Oil ...|           Mesa|[7:30-17:0, 7:30-...|      1|   33.3938847|   -111.6822257|Junction Tire & A...|      85209|          18|  5.0|   AZ|\n",
      "|      404 E Green St|[,, 'none',,,,, F...|pQeaRpvuhoEqudo3u...|Ethnic Food, Food...|      Champaign|[11:30-14:30, 11:...|      1|   40.1104457|    -88.2330726| The Empanadas House|      61820|           5|  4.5|   IL|\n",
      "|700 Kipling Avenu...|[,,,,,,, False,,,...|EosRKXIGeSWFYWwpk...|Martial Arts, Gym...|        Toronto|[5:30-23:0, 5:30-...|      1|43.6245394916| -79.5291079302|      Xtreme Couture|    M8Z 5G3|          16|  3.0|   ON|\n",
      "|                    |                null|MbZMmwo-eL0Jnm_Yb...|Contractors, Land...|        Calgary|[7:0-17:0, 7:0-17...|      1|   50.9459599|   -114.0372072|Chinook Landscapi...|    T2J 2P2|           3|  5.0|   AB|\n",
      "|1110 Saw Mill Run...|[,,,,,,,,, True,,...|7Dv4_HAxsxvadEsT5...|Automotive, Auto ...|     Pittsburgh|[8:0-17:0, 8:0-17...|      1|   40.4066674|    -80.0044502|Dependable Brakes...|      15226|           5|  5.0|   PA|\n",
      "|   2831 Parmenter St|[,,,,,,, True,, T...|M_guz7Dj7hX0evS67...|Desserts, Food, I...|      Middleton|[11:0-22:0, 0:0-0...|      1|43.1053100891| -89.5101417974|Chocolate Shoppe ...|      53562|           6|  3.5|   WI|\n",
      "|116 N Roosevelt A...|[,,,,,,,,, True,,...|JjJs3o60uQCfctDjs...|Contractors, Home...|       Chandler|[9:0-16:0, 9:0-16...|      1|   33.3038687|   -111.9516598|        Convertabath|      85226|          10|  2.5|   AZ|\n",
      "|     5465 Simmons St|[,,,,,,,,, True, ...|kOICO53wbOiOJcKuC...|Beauty & Spas, Ta...|North Las Vegas|[8:0-21:0, 8:0-21...|      0|    36.263362|   -115.1798386|       Tan Las Vegas|      89031|           5|  3.5|   NV|\n",
      "|     2402 Atchley Dr|[,,,,,,,,, True,,...|rqcOZePlVvJP9Etzl...|Local Services, S...|      Henderson|[8:0-18:0, 8:0-18...|      0|   35.9520457|   -115.0934834|      Desert Storage|      89052|           5|  5.0|   NV|\n",
      "| 3131 Las Vegas Blvd|[,,,,,,, True,, T...|uZuh51lXu7tsrC8RA...|Shopping, Shoe St...|      Las Vegas|                null|      0|36.1257322229|-115.1676084101|      Manolo Blahnik|      89109|          32|  4.5|   NV|\n",
      "|2115 E Cedar St, ...|[,,,,,,,,, True,,...|nIEhsGbw0vJuYl05b...|Event Planning & ...|          Tempe|                null|      1|   33.4115139|   -111.8953784|   Bloom & Blueprint|      85281|           7|  4.5|   AZ|\n",
      "|      2915 Cherry Rd|[,,,,,,,,, True,,...|edQoeeBFUTYGwnUSE...|Auto Customizatio...|      Rock Hill|[8:0-18:0, 8:0-18...|      1|   34.9811205|    -80.9790228|            Car Guyz|      29730|          10|  4.5|   SC|\n",
      "|     5229 S Power Rd|[False,,,,,,, Tru...|Vwo64kNYDjKi98gUU...|Weight Loss Cente...|           Mesa|[5:30-20:0, 5:30-...|      1|   33.3207235|   -111.6858686|Gateway Fit Body ...|      85212|          16|  4.5|   AZ|\n",
      "+--------------------+--------------------+--------------------+--------------------+---------------+--------------------+-------+-------------+---------------+--------------------+-----------+------------+-----+-----+\n",
      "only showing top 20 rows\n",
      "\n"
     ]
    }
   ],
   "source": [
    "df.show()"
   ]
  }
 ],
 "metadata": {
  "kernelspec": {
   "display_name": "Python 3",
   "language": "python",
   "name": "python3"
  },
  "language_info": {
   "codemirror_mode": {
    "name": "ipython",
    "version": 3
   },
   "file_extension": ".py",
   "mimetype": "text/x-python",
   "name": "python",
   "nbconvert_exporter": "python",
   "pygments_lexer": "ipython3",
   "version": "3.7.6"
  }
 },
 "nbformat": 4,
 "nbformat_minor": 4
}
